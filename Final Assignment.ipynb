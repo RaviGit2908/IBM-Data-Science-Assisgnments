{
 "cells": [
  {
   "cell_type": "code",
   "execution_count": null,
   "id": "6e98da1c",
   "metadata": {},
   "outputs": [],
   "source": [
    "!pip install yfinance\n",
    "!pip install bs4\n",
    "!pip install nbformat\n",
    "!pip install --upgrade plotly"
   ]
  },
  {
   "cell_type": "code",
   "execution_count": 5,
   "id": "2221cfab",
   "metadata": {},
   "outputs": [
    {
     "data": {
      "application/vnd.microsoft.datawrangler.viewer.v0+json": {
       "columns": [
        {
         "name": "index",
         "rawType": "int64",
         "type": "integer"
        },
        {
         "name": "Date",
         "rawType": "datetime64[ns, America/New_York]",
         "type": "unknown"
        },
        {
         "name": "Open",
         "rawType": "float64",
         "type": "float"
        },
        {
         "name": "High",
         "rawType": "float64",
         "type": "float"
        },
        {
         "name": "Low",
         "rawType": "float64",
         "type": "float"
        },
        {
         "name": "Close",
         "rawType": "float64",
         "type": "float"
        },
        {
         "name": "Volume",
         "rawType": "int64",
         "type": "integer"
        },
        {
         "name": "Dividends",
         "rawType": "float64",
         "type": "float"
        },
        {
         "name": "Stock Splits",
         "rawType": "float64",
         "type": "float"
        }
       ],
       "ref": "ae28c7ac-0dba-419e-8a95-6359343eec54",
       "rows": [
        [
         "0",
         "2010-06-29 00:00:00-04:00",
         "1.2666670083999634",
         "1.6666669845581055",
         "1.1693329811096191",
         "1.5926669836044312",
         "281494500",
         "0.0",
         "0.0"
        ],
        [
         "1",
         "2010-06-30 00:00:00-04:00",
         "1.7193330526351929",
         "2.0280001163482666",
         "1.553333044052124",
         "1.5886670351028442",
         "257806500",
         "0.0",
         "0.0"
        ],
        [
         "2",
         "2010-07-01 00:00:00-04:00",
         "1.6666669845581055",
         "1.7280000448226929",
         "1.3513330221176147",
         "1.4639999866485596",
         "123282000",
         "0.0",
         "0.0"
        ],
        [
         "3",
         "2010-07-02 00:00:00-04:00",
         "1.5333329439163208",
         "1.5399999618530273",
         "1.24733304977417",
         "1.2799999713897705",
         "77097000",
         "0.0",
         "0.0"
        ],
        [
         "4",
         "2010-07-06 00:00:00-04:00",
         "1.3333330154418945",
         "1.3333330154418945",
         "1.0553330183029175",
         "1.0740000009536743",
         "103003500",
         "0.0",
         "0.0"
        ]
       ],
       "shape": {
        "columns": 8,
        "rows": 5
       }
      },
      "text/html": [
       "<div>\n",
       "<style scoped>\n",
       "    .dataframe tbody tr th:only-of-type {\n",
       "        vertical-align: middle;\n",
       "    }\n",
       "\n",
       "    .dataframe tbody tr th {\n",
       "        vertical-align: top;\n",
       "    }\n",
       "\n",
       "    .dataframe thead th {\n",
       "        text-align: right;\n",
       "    }\n",
       "</style>\n",
       "<table border=\"1\" class=\"dataframe\">\n",
       "  <thead>\n",
       "    <tr style=\"text-align: right;\">\n",
       "      <th></th>\n",
       "      <th>Date</th>\n",
       "      <th>Open</th>\n",
       "      <th>High</th>\n",
       "      <th>Low</th>\n",
       "      <th>Close</th>\n",
       "      <th>Volume</th>\n",
       "      <th>Dividends</th>\n",
       "      <th>Stock Splits</th>\n",
       "    </tr>\n",
       "  </thead>\n",
       "  <tbody>\n",
       "    <tr>\n",
       "      <th>0</th>\n",
       "      <td>2010-06-29 00:00:00-04:00</td>\n",
       "      <td>1.266667</td>\n",
       "      <td>1.666667</td>\n",
       "      <td>1.169333</td>\n",
       "      <td>1.592667</td>\n",
       "      <td>281494500</td>\n",
       "      <td>0.0</td>\n",
       "      <td>0.0</td>\n",
       "    </tr>\n",
       "    <tr>\n",
       "      <th>1</th>\n",
       "      <td>2010-06-30 00:00:00-04:00</td>\n",
       "      <td>1.719333</td>\n",
       "      <td>2.028000</td>\n",
       "      <td>1.553333</td>\n",
       "      <td>1.588667</td>\n",
       "      <td>257806500</td>\n",
       "      <td>0.0</td>\n",
       "      <td>0.0</td>\n",
       "    </tr>\n",
       "    <tr>\n",
       "      <th>2</th>\n",
       "      <td>2010-07-01 00:00:00-04:00</td>\n",
       "      <td>1.666667</td>\n",
       "      <td>1.728000</td>\n",
       "      <td>1.351333</td>\n",
       "      <td>1.464000</td>\n",
       "      <td>123282000</td>\n",
       "      <td>0.0</td>\n",
       "      <td>0.0</td>\n",
       "    </tr>\n",
       "    <tr>\n",
       "      <th>3</th>\n",
       "      <td>2010-07-02 00:00:00-04:00</td>\n",
       "      <td>1.533333</td>\n",
       "      <td>1.540000</td>\n",
       "      <td>1.247333</td>\n",
       "      <td>1.280000</td>\n",
       "      <td>77097000</td>\n",
       "      <td>0.0</td>\n",
       "      <td>0.0</td>\n",
       "    </tr>\n",
       "    <tr>\n",
       "      <th>4</th>\n",
       "      <td>2010-07-06 00:00:00-04:00</td>\n",
       "      <td>1.333333</td>\n",
       "      <td>1.333333</td>\n",
       "      <td>1.055333</td>\n",
       "      <td>1.074000</td>\n",
       "      <td>103003500</td>\n",
       "      <td>0.0</td>\n",
       "      <td>0.0</td>\n",
       "    </tr>\n",
       "  </tbody>\n",
       "</table>\n",
       "</div>"
      ],
      "text/plain": [
       "                       Date      Open      High       Low     Close  \\\n",
       "0 2010-06-29 00:00:00-04:00  1.266667  1.666667  1.169333  1.592667   \n",
       "1 2010-06-30 00:00:00-04:00  1.719333  2.028000  1.553333  1.588667   \n",
       "2 2010-07-01 00:00:00-04:00  1.666667  1.728000  1.351333  1.464000   \n",
       "3 2010-07-02 00:00:00-04:00  1.533333  1.540000  1.247333  1.280000   \n",
       "4 2010-07-06 00:00:00-04:00  1.333333  1.333333  1.055333  1.074000   \n",
       "\n",
       "      Volume  Dividends  Stock Splits  \n",
       "0  281494500        0.0           0.0  \n",
       "1  257806500        0.0           0.0  \n",
       "2  123282000        0.0           0.0  \n",
       "3   77097000        0.0           0.0  \n",
       "4  103003500        0.0           0.0  "
      ]
     },
     "execution_count": 5,
     "metadata": {},
     "output_type": "execute_result"
    }
   ],
   "source": [
    "import yfinance as yf\n",
    "import pandas as pd\n",
    "\n",
    "# Create the ticker object for Tesla\n",
    "tesla_ticker = yf.Ticker('TSLA')\n",
    "\n",
    "# Extract Tesla stock history (max period)\n",
    "tesla_data = tesla_ticker.history(period='max')\n",
    "\n",
    "# Reset index for easier use later\n",
    "tesla_data.reset_index(inplace=True)\n",
    "\n",
    "# Display first rows\n",
    "tesla_data.head()\n"
   ]
  },
  {
   "cell_type": "code",
   "execution_count": 15,
   "id": "04ff533a",
   "metadata": {},
   "outputs": [
    {
     "data": {
      "application/vnd.microsoft.datawrangler.viewer.v0+json": {
       "columns": [
        {
         "name": "index",
         "rawType": "int64",
         "type": "integer"
        },
        {
         "name": "Date",
         "rawType": "object",
         "type": "string"
        },
        {
         "name": "Revenue",
         "rawType": "int64",
         "type": "integer"
        }
       ],
       "ref": "d9d29f69-8f7a-4cae-ae6b-939f7194b0c8",
       "rows": [
        [
         "48",
         "2010-09-30",
         "31"
        ],
        [
         "49",
         "2010-06-30",
         "28"
        ],
        [
         "50",
         "2010-03-31",
         "21"
        ],
        [
         "52",
         "2009-09-30",
         "46"
        ],
        [
         "53",
         "2009-06-30",
         "27"
        ]
       ],
       "shape": {
        "columns": 2,
        "rows": 5
       }
      },
      "text/html": [
       "<div>\n",
       "<style scoped>\n",
       "    .dataframe tbody tr th:only-of-type {\n",
       "        vertical-align: middle;\n",
       "    }\n",
       "\n",
       "    .dataframe tbody tr th {\n",
       "        vertical-align: top;\n",
       "    }\n",
       "\n",
       "    .dataframe thead th {\n",
       "        text-align: right;\n",
       "    }\n",
       "</style>\n",
       "<table border=\"1\" class=\"dataframe\">\n",
       "  <thead>\n",
       "    <tr style=\"text-align: right;\">\n",
       "      <th></th>\n",
       "      <th>Date</th>\n",
       "      <th>Revenue</th>\n",
       "    </tr>\n",
       "  </thead>\n",
       "  <tbody>\n",
       "    <tr>\n",
       "      <th>48</th>\n",
       "      <td>2010-09-30</td>\n",
       "      <td>31</td>\n",
       "    </tr>\n",
       "    <tr>\n",
       "      <th>49</th>\n",
       "      <td>2010-06-30</td>\n",
       "      <td>28</td>\n",
       "    </tr>\n",
       "    <tr>\n",
       "      <th>50</th>\n",
       "      <td>2010-03-31</td>\n",
       "      <td>21</td>\n",
       "    </tr>\n",
       "    <tr>\n",
       "      <th>52</th>\n",
       "      <td>2009-09-30</td>\n",
       "      <td>46</td>\n",
       "    </tr>\n",
       "    <tr>\n",
       "      <th>53</th>\n",
       "      <td>2009-06-30</td>\n",
       "      <td>27</td>\n",
       "    </tr>\n",
       "  </tbody>\n",
       "</table>\n",
       "</div>"
      ],
      "text/plain": [
       "          Date  Revenue\n",
       "48  2010-09-30       31\n",
       "49  2010-06-30       28\n",
       "50  2010-03-31       21\n",
       "52  2009-09-30       46\n",
       "53  2009-06-30       27"
      ]
     },
     "execution_count": 15,
     "metadata": {},
     "output_type": "execute_result"
    }
   ],
   "source": [
    "import requests\n",
    "from bs4 import BeautifulSoup\n",
    "\n",
    "# Tesla revenue URL\n",
    "tesla_url = \"https://cf-courses-data.s3.us.cloud-object-storage.appdomain.cloud/IBMDeveloperSkillsNetwork-PY0220EN-SkillsNetwork/labs/project/revenue.htm\"\n",
    "\n",
    "# Get page content\n",
    "html_data = requests.get(tesla_url).text\n",
    "\n",
    "# Parse HTML\n",
    "soup = BeautifulSoup(html_data, 'html.parser')\n",
    "\n",
    "# Create empty DataFrame\n",
    "tesla_revenue = pd.DataFrame(columns=[\"Date\", \"Revenue\"])\n",
    "\n",
    "# Select the correct revenue table; macrotrends has multiple tables, 'tbody' 1 index for quarterly data\n",
    "tesla_revenue_table = soup.find_all('tbody')[1]\n",
    "\n",
    "# Loop through rows and extract Date and Revenue\n",
    "for row in tesla_revenue_table.find_all('tr'):\n",
    "    cols = row.find_all('td')\n",
    "    date = cols[0].text\n",
    "    revenue = cols[1].text.replace('$', '').replace(',', '')  # clean revenue values\n",
    "    new_row = {\"Date\": date, \"Revenue\": revenue}\n",
    "    new_row_df = pd.DataFrame([new_row])\n",
    "    tesla_revenue  = pd.concat([tesla_revenue, new_row_df], ignore_index=True)\n",
    "# Drop empty or invalid rows\n",
    "tesla_revenue = tesla_revenue[tesla_revenue['Revenue'] != \"\"]\n",
    "\n",
    "# Convert Revenue to numeric\n",
    "tesla_revenue['Revenue'] = pd.to_numeric(tesla_revenue['Revenue'])\n",
    "\n",
    "# Show last 5 rows\n",
    "tesla_revenue.tail()\n"
   ]
  },
  {
   "cell_type": "code",
   "execution_count": 16,
   "id": "d2c70fda",
   "metadata": {},
   "outputs": [
    {
     "data": {
      "application/vnd.microsoft.datawrangler.viewer.v0+json": {
       "columns": [
        {
         "name": "index",
         "rawType": "int64",
         "type": "integer"
        },
        {
         "name": "Date",
         "rawType": "datetime64[ns, America/New_York]",
         "type": "unknown"
        },
        {
         "name": "Open",
         "rawType": "float64",
         "type": "float"
        },
        {
         "name": "High",
         "rawType": "float64",
         "type": "float"
        },
        {
         "name": "Low",
         "rawType": "float64",
         "type": "float"
        },
        {
         "name": "Close",
         "rawType": "float64",
         "type": "float"
        },
        {
         "name": "Volume",
         "rawType": "int64",
         "type": "integer"
        },
        {
         "name": "Dividends",
         "rawType": "float64",
         "type": "float"
        },
        {
         "name": "Stock Splits",
         "rawType": "float64",
         "type": "float"
        }
       ],
       "ref": "fd964d6d-9832-4a1e-8eeb-baaeca7ce12a",
       "rows": [
        [
         "0",
         "2002-02-13 00:00:00-05:00",
         "1.620128432409022",
         "1.693349891934307",
         "1.6032958650042581",
         "1.691666603088379",
         "76216000",
         "0.0",
         "0.0"
        ],
        [
         "1",
         "2002-02-14 00:00:00-05:00",
         "1.7127073418283545",
         "1.7160737592086661",
         "1.670626081147202",
         "1.6832504272460938",
         "11021600",
         "0.0",
         "0.0"
        ],
        [
         "2",
         "2002-02-15 00:00:00-05:00",
         "1.6832504163818824",
         "1.6874584782119295",
         "1.6580017243470617",
         "1.674834132194519",
         "8389600",
         "0.0",
         "0.0"
        ],
        [
         "3",
         "2002-02-19 00:00:00-05:00",
         "1.6664181665564903",
         "1.6664181665564903",
         "1.578047567014593",
         "1.6075044870376587",
         "7410400",
         "0.0",
         "0.0"
        ],
        [
         "4",
         "2002-02-20 00:00:00-05:00",
         "1.6159201962322578",
         "1.6622095108032227",
         "1.6032956917790468",
         "1.6622095108032227",
         "6892800",
         "0.0",
         "0.0"
        ]
       ],
       "shape": {
        "columns": 8,
        "rows": 5
       }
      },
      "text/html": [
       "<div>\n",
       "<style scoped>\n",
       "    .dataframe tbody tr th:only-of-type {\n",
       "        vertical-align: middle;\n",
       "    }\n",
       "\n",
       "    .dataframe tbody tr th {\n",
       "        vertical-align: top;\n",
       "    }\n",
       "\n",
       "    .dataframe thead th {\n",
       "        text-align: right;\n",
       "    }\n",
       "</style>\n",
       "<table border=\"1\" class=\"dataframe\">\n",
       "  <thead>\n",
       "    <tr style=\"text-align: right;\">\n",
       "      <th></th>\n",
       "      <th>Date</th>\n",
       "      <th>Open</th>\n",
       "      <th>High</th>\n",
       "      <th>Low</th>\n",
       "      <th>Close</th>\n",
       "      <th>Volume</th>\n",
       "      <th>Dividends</th>\n",
       "      <th>Stock Splits</th>\n",
       "    </tr>\n",
       "  </thead>\n",
       "  <tbody>\n",
       "    <tr>\n",
       "      <th>0</th>\n",
       "      <td>2002-02-13 00:00:00-05:00</td>\n",
       "      <td>1.620128</td>\n",
       "      <td>1.693350</td>\n",
       "      <td>1.603296</td>\n",
       "      <td>1.691667</td>\n",
       "      <td>76216000</td>\n",
       "      <td>0.0</td>\n",
       "      <td>0.0</td>\n",
       "    </tr>\n",
       "    <tr>\n",
       "      <th>1</th>\n",
       "      <td>2002-02-14 00:00:00-05:00</td>\n",
       "      <td>1.712707</td>\n",
       "      <td>1.716074</td>\n",
       "      <td>1.670626</td>\n",
       "      <td>1.683250</td>\n",
       "      <td>11021600</td>\n",
       "      <td>0.0</td>\n",
       "      <td>0.0</td>\n",
       "    </tr>\n",
       "    <tr>\n",
       "      <th>2</th>\n",
       "      <td>2002-02-15 00:00:00-05:00</td>\n",
       "      <td>1.683250</td>\n",
       "      <td>1.687458</td>\n",
       "      <td>1.658002</td>\n",
       "      <td>1.674834</td>\n",
       "      <td>8389600</td>\n",
       "      <td>0.0</td>\n",
       "      <td>0.0</td>\n",
       "    </tr>\n",
       "    <tr>\n",
       "      <th>3</th>\n",
       "      <td>2002-02-19 00:00:00-05:00</td>\n",
       "      <td>1.666418</td>\n",
       "      <td>1.666418</td>\n",
       "      <td>1.578048</td>\n",
       "      <td>1.607504</td>\n",
       "      <td>7410400</td>\n",
       "      <td>0.0</td>\n",
       "      <td>0.0</td>\n",
       "    </tr>\n",
       "    <tr>\n",
       "      <th>4</th>\n",
       "      <td>2002-02-20 00:00:00-05:00</td>\n",
       "      <td>1.615920</td>\n",
       "      <td>1.662210</td>\n",
       "      <td>1.603296</td>\n",
       "      <td>1.662210</td>\n",
       "      <td>6892800</td>\n",
       "      <td>0.0</td>\n",
       "      <td>0.0</td>\n",
       "    </tr>\n",
       "  </tbody>\n",
       "</table>\n",
       "</div>"
      ],
      "text/plain": [
       "                       Date      Open      High       Low     Close    Volume  \\\n",
       "0 2002-02-13 00:00:00-05:00  1.620128  1.693350  1.603296  1.691667  76216000   \n",
       "1 2002-02-14 00:00:00-05:00  1.712707  1.716074  1.670626  1.683250  11021600   \n",
       "2 2002-02-15 00:00:00-05:00  1.683250  1.687458  1.658002  1.674834   8389600   \n",
       "3 2002-02-19 00:00:00-05:00  1.666418  1.666418  1.578048  1.607504   7410400   \n",
       "4 2002-02-20 00:00:00-05:00  1.615920  1.662210  1.603296  1.662210   6892800   \n",
       "\n",
       "   Dividends  Stock Splits  \n",
       "0        0.0           0.0  \n",
       "1        0.0           0.0  \n",
       "2        0.0           0.0  \n",
       "3        0.0           0.0  \n",
       "4        0.0           0.0  "
      ]
     },
     "execution_count": 16,
     "metadata": {},
     "output_type": "execute_result"
    }
   ],
   "source": [
    "# GameStop ticker\n",
    "gme_ticker = yf.Ticker('GME')\n",
    "\n",
    "# Extract stock history max period\n",
    "gme_data = gme_ticker.history(period='max')\n",
    "\n",
    "# Reset index for use\n",
    "gme_data.reset_index(inplace=True)\n",
    "\n",
    "# Display first rows\n",
    "gme_data.head()\n"
   ]
  },
  {
   "cell_type": "code",
   "execution_count": 22,
   "id": "85323c13",
   "metadata": {},
   "outputs": [
    {
     "name": "stdout",
     "output_type": "stream",
     "text": [
      "Collecting html5lib\n",
      "  Downloading html5lib-1.1-py2.py3-none-any.whl.metadata (16 kB)\n",
      "Requirement already satisfied: six>=1.9 in c:\\users\\jangi\\anaconda3\\lib\\site-packages (from html5lib) (1.17.0)\n",
      "Requirement already satisfied: webencodings in c:\\users\\jangi\\anaconda3\\lib\\site-packages (from html5lib) (0.5.1)\n",
      "Downloading html5lib-1.1-py2.py3-none-any.whl (112 kB)\n",
      "Installing collected packages: html5lib\n",
      "Successfully installed html5lib-1.1\n"
     ]
    }
   ],
   "source": [
    "!pip install html5lib"
   ]
  },
  {
   "cell_type": "code",
   "execution_count": null,
   "id": "7562f5a7",
   "metadata": {},
   "outputs": [],
   "source": [
    "import requests\n",
    "\n",
    "# GameStop revenue URL\n",
    "gme_url = \"https://cf-courses-data.s3.us.cloud-object-storage.appdomain.cloud/IBMDeveloperSkillsNetwork-PY0220EN-SkillsNetwork/labs/project/stock.html\"\n",
    "\n",
    "# Get HTML content (not mandatory for pandas read_html but okay to keep)\n",
    "gme_html = requests.get(gme_url).text\n",
    "\n",
    "# Parse with BeautifulSoup (optional if only using pandas.read_html)\n",
    "gme_soup = BeautifulSoup(gme_html, 'html.parser')\n",
    "\n",
    "# Extract quarterly revenue table using pandas directly from URL\n",
    "gme_revenue = pd.read_html(gme_url, match=\"GameStop Revenue\", flavor='bs4')[0]\n",
    "\n",
    "# Rename columns for clarity\n",
    "gme_revenue = gme_revenue.rename(columns={\n",
    "    \"GameStop Quarterly Revenue(Millions of US $)\": \"Date\",\n",
    "    \"GameStop Quarterly Revenue(Millions of US $).1\": \"Revenue\"\n",
    "})\n",
    "\n",
    "# Clean revenue field removing $ and commas\n",
    "gme_revenue[\"Revenue\"] = gme_revenue[\"Revenue\"].str.replace(',|\\$', '', regex=True)\n",
    "\n",
    "# Convert Revenue to numeric for analysis\n",
    "gme_revenue[\"Revenue\"] = pd.to_numeric(gme_revenue[\"Revenue\"])\n",
    "\n",
    "# Drop empty rows if any and show last 5 records\n",
    "gme_revenue = gme_revenue[gme_revenue[\"Revenue\"].notna()]\n",
    "\n",
    "# Display last 5 rows of cleaned revenue data\n",
    "print(gme_revenue.tail())\n"
   ]
  },
  {
   "cell_type": "code",
   "execution_count": null,
   "id": "1cc33b7a",
   "metadata": {},
   "outputs": [],
   "source": [
    "import plotly.graph_objects as go\n",
    "\n",
    "def make_graph(stock_data, revenue_data, company_name):\n",
    "    fig = go.Figure()\n",
    "    \n",
    "    # Stock Price\n",
    "    fig.add_trace(go.Scatter(\n",
    "        x=stock_data['Date'], \n",
    "        y=stock_data['Close'], \n",
    "        mode='lines',\n",
    "        name=f'{company_name} Stock Price'\n",
    "    ))\n",
    "    \n",
    "    # Revenue (plotted on secondary y-axis)\n",
    "    fig.add_trace(go.Scatter(\n",
    "        x=revenue_data['Date'], \n",
    "        y=revenue_data['Revenue'], \n",
    "        mode='lines',\n",
    "        name=f'{company_name} Revenue',\n",
    "        yaxis='y2'\n",
    "    ))\n",
    "    \n",
    "    # Layout configuration\n",
    "    fig.update_layout(\n",
    "        title=f'{company_name} Stock Price and Revenue Over Time',\n",
    "        xaxis_title='Date',\n",
    "        yaxis=dict(title='Stock Price (USD)', side='left'),\n",
    "        yaxis2=dict(title='Revenue (Millions USD)', overlaying='y', side='right'),\n",
    "        legend=dict(x=0, y=1.1, orientation='h')\n",
    "    )\n",
    "    \n",
    "    fig.show()\n",
    "\n",
    "# Format revenue date to datetime\n",
    "tesla_revenue['Date'] = pd.to_datetime(tesla_revenue['Date'])\n",
    "gme_revenue['Date'] = pd.to_datetime(gme_revenue['Date'])\n",
    "\n",
    "# Plot Tesla dashboard\n",
    "make_graph(tesla_data, tesla_revenue, 'Tesla')\n",
    "\n",
    "# Plot GameStop dashboard\n",
    "make_graph(gme_data, gme_revenue, 'GameStop')\n"
   ]
  }
 ],
 "metadata": {
  "kernelspec": {
   "display_name": "base",
   "language": "python",
   "name": "python3"
  },
  "language_info": {
   "codemirror_mode": {
    "name": "ipython",
    "version": 3
   },
   "file_extension": ".py",
   "mimetype": "text/x-python",
   "name": "python",
   "nbconvert_exporter": "python",
   "pygments_lexer": "ipython3",
   "version": "3.13.5"
  }
 },
 "nbformat": 4,
 "nbformat_minor": 5
}
